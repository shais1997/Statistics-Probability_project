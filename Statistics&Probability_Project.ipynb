{
 "cells": [
  {
   "cell_type": "markdown",
   "metadata": {},
   "source": [
    "# Muhammad Shais CSC_18F_023 3d"
   ]
  },
  {
   "cell_type": "code",
   "execution_count": 2,
   "metadata": {},
   "outputs": [
    {
     "name": "stdout",
     "output_type": "stream",
     "text": [
      "shais\n"
     ]
    }
   ],
   "source": [
    "# string alwasy declare in inverted commas\n",
    "name=\"shais\"\n",
    "print(name)"
   ]
  },
  {
   "cell_type": "code",
   "execution_count": 3,
   "metadata": {},
   "outputs": [
    {
     "name": "stdout",
     "output_type": "stream",
     "text": [
      "shaisshaisshais\n"
     ]
    }
   ],
   "source": [
    "a=\"shais\"\n",
    "b=3\n",
    "c=a*b\n",
    "print(c)"
   ]
  },
  {
   "cell_type": "code",
   "execution_count": 4,
   "metadata": {},
   "outputs": [
    {
     "name": "stdout",
     "output_type": "stream",
     "text": [
      "5\n",
      "1\n",
      "6\n",
      "1.5\n",
      "9\n",
      "1\n",
      "1\n"
     ]
    }
   ],
   "source": [
    "a=3\n",
    "b=2\n",
    "print(a+b)#addition\n",
    "print(a-b)#subtraction\n",
    "print(a*b)#multiplication\n",
    "print(a/b)#division\n",
    "print(a**2)#power or exponent\n",
    "print(a//b)#give answer in roundfigure\n",
    "print(a%b)#gives the reminder"
   ]
  },
  {
   "cell_type": "code",
   "execution_count": 1,
   "metadata": {},
   "outputs": [
    {
     "name": "stdout",
     "output_type": "stream",
     "text": [
      "what is your age4\n",
      "you are not allowed\n"
     ]
    }
   ],
   "source": [
    "#if_statement\n",
    "age = int(input(\"what is your age\"))\n",
    "if age >= 18 :\n",
    "    print(\"you are allowed\")\n",
    "else :\n",
    "    print(\"you are not allowed\")"
   ]
  },
  {
   "cell_type": "code",
   "execution_count": 2,
   "metadata": {},
   "outputs": [
    {
     "name": "stdout",
     "output_type": "stream",
     "text": [
      "03493208435\n",
      "abc\n"
     ]
    }
   ],
   "source": [
    "#dictionries\n",
    "customer={'id':'abc',\n",
    "         'name':'shais',\n",
    "         'contact':'03493208435'}\n",
    "print(customer['contact'])\n",
    "print(customer['id'])"
   ]
  },
  {
   "cell_type": "code",
   "execution_count": 3,
   "metadata": {},
   "outputs": [
    {
     "name": "stdout",
     "output_type": "stream",
     "text": [
      "denmark\n"
     ]
    }
   ],
   "source": [
    "#dictionaries by using integers\n",
    "cities={\n",
    "    1:'finland',\n",
    "    2:'norway',\n",
    "    3:'denmark'\n",
    "}\n",
    "print(cities[3])"
   ]
  },
  {
   "cell_type": "code",
   "execution_count": 4,
   "metadata": {},
   "outputs": [
    {
     "name": "stdout",
     "output_type": "stream",
     "text": [
      "{'name': 'shais', 'id': 'csc-18f-023', 'address': 'karachi'}\n"
     ]
    }
   ],
   "source": [
    "#modification in dictionaries\n",
    "student={\n",
    "    'name':'shais',\n",
    "    'id':'csc-18f-023',\n",
    "    'address':'lahore'\n",
    "}\n",
    "student['address']='karachi'\n",
    "print(student)"
   ]
  },
  {
   "cell_type": "code",
   "execution_count": 5,
   "metadata": {},
   "outputs": [
    {
     "name": "stdout",
     "output_type": "stream",
     "text": [
      "{'id': '18f', 'class': '3d', 'name': 'shais', 'fname': 'irfan'}\n"
     ]
    }
   ],
   "source": [
    "#adding in dictionaries\n",
    "student={\n",
    "    'id':'18f',\n",
    "    'class':'3d',\n",
    "    'name':'shais'\n",
    "}\n",
    "student['fname']='irfan'\n",
    "print(student)"
   ]
  },
  {
   "cell_type": "code",
   "execution_count": 6,
   "metadata": {},
   "outputs": [
    {
     "name": "stdout",
     "output_type": "stream",
     "text": [
      "{'id': '18f', 'name': 'shais', 'fname': 'irfan'}\n"
     ]
    }
   ],
   "source": [
    "#del in dectionaries\n",
    "del student['class']\n",
    "print(student)"
   ]
  },
  {
   "cell_type": "code",
   "execution_count": 7,
   "metadata": {},
   "outputs": [
    {
     "name": "stdout",
     "output_type": "stream",
     "text": [
      "id keys\n",
      "name keys\n",
      "fname keys\n",
      "18f values\n",
      "shais values\n",
      "irfan values\n"
     ]
    }
   ],
   "source": [
    "#print list using dictionaries and for loop\n",
    "for a in student.keys():\n",
    "    print(a,'keys')\n",
    "for b in student.values():\n",
    "    print(b,'values')"
   ]
  },
  {
   "cell_type": "code",
   "execution_count": 8,
   "metadata": {},
   "outputs": [
    {
     "name": "stdout",
     "output_type": "stream",
     "text": [
      "{'id': '2', 'name': 'hasan', 'contact': '034932h08435'}\n"
     ]
    }
   ],
   "source": [
    "# multiple dictionaries in list\n",
    "stu=[\n",
    "    {\n",
    "        'id':'1',\n",
    "        'name':'shais',\n",
    "        'contact':'034932h08435'\n",
    "    },\n",
    "    {\n",
    "        'id':'2',\n",
    "        'name':'hasan',\n",
    "        'contact':'034932h08435',\n",
    "        }\n",
    "]\n",
    "print(stu[1])"
   ]
  },
  {
   "cell_type": "code",
   "execution_count": 9,
   "metadata": {},
   "outputs": [
    {
     "name": "stdout",
     "output_type": "stream",
     "text": [
      "{'name': 'sohaib', 'fname': 'salman', 'contact': '02134323'}\n"
     ]
    }
   ],
   "source": [
    "#adding dictionery in list\n",
    "student=[\n",
    "    {\n",
    "        'name':'shais',\n",
    "        'fname':'irfan',\n",
    "        'contact':'02134323'\n",
    "    },\n",
    "     {\n",
    "        'name':'haider',\n",
    "        'fname':'munir',\n",
    "        'contact':'02134323'\n",
    "    },\n",
    "     {\n",
    "        'name':'rabi',\n",
    "        'fname':'salman',\n",
    "        'contact':'02134323'\n",
    "    }\n",
    "    \n",
    "]\n",
    "new={\n",
    "     'name':'sohaib',\n",
    "     'fname':'salman',\n",
    "     'contact':'02134323'\n",
    "}\n",
    "student.append(new)\n",
    "print(student[3])"
   ]
  },
  {
   "cell_type": "markdown",
   "metadata": {},
   "source": [
    "# Note all formulas are mentioned in report"
   ]
  },
  {
   "cell_type": "markdown",
   "metadata": {},
   "source": [
    "# 1 Central Tendency\n",
    "central tendency cover three topics\n",
    "a) Mean \n",
    "b) Median\n",
    "c) Mode"
   ]
  },
  {
   "cell_type": "markdown",
   "metadata": {},
   "source": [
    "# a) Mean"
   ]
  },
  {
   "cell_type": "code",
   "execution_count": 30,
   "metadata": {},
   "outputs": [
    {
     "name": "stdout",
     "output_type": "stream",
     "text": [
      "[3 1 8 2 8 6 1 8 9 8 8 1 1 5 4 7 5 3 2 2]\n",
      "Mean=4.6\n"
     ]
    }
   ],
   "source": [
    "m=np.random.randint(1,10,20)\n",
    "print(m)\n",
    "np.mean(m)\n",
    "print('Mean='+ str(np.mean(m)))"
   ]
  },
  {
   "cell_type": "markdown",
   "metadata": {},
   "source": [
    "# b) Median\n",
    "Data should be arrange in ascending or descending order, so the center value of Data is kown as Median"
   ]
  },
  {
   "cell_type": "code",
   "execution_count": 31,
   "metadata": {},
   "outputs": [
    {
     "name": "stdout",
     "output_type": "stream",
     "text": [
      "Median=4.5\n"
     ]
    }
   ],
   "source": [
    "print('Median='+ str(np.median(m)))"
   ]
  },
  {
   "cell_type": "markdown",
   "metadata": {},
   "source": [
    "# c) Mode\n",
    "Most frequently occuring value of Data is Known as Mode"
   ]
  },
  {
   "cell_type": "code",
   "execution_count": 33,
   "metadata": {},
   "outputs": [
    {
     "name": "stdout",
     "output_type": "stream",
     "text": [
      "Mode=8\n"
     ]
    }
   ],
   "source": [
    "from statistics import mode\n",
    "a=mode(m)\n",
    "print('Mode=' + str(a))"
   ]
  },
  {
   "cell_type": "markdown",
   "metadata": {},
   "source": [
    "# 2 Population\n",
    "We collect age of student in our population between 10 to 25"
   ]
  },
  {
   "cell_type": "code",
   "execution_count": 7,
   "metadata": {},
   "outputs": [
    {
     "name": "stdout",
     "output_type": "stream",
     "text": [
      "[12 19 14 12 12 16 22 21 24 18 11 16 10 20 13 17 14 20 23 19 12 10 10 21\n",
      " 20 17 20 24 13 14 21 11 21 23 11 12 18 14 23 11 17 10 21 18 18 16 10 22\n",
      " 16 16 15 21 12 22 14 23 12 23 15 24 15 12 18 17 14 12 12 24 24 21 11 16\n",
      " 22 23 23 18 23 11 22 20 21 19 13 17 21 10 20 16 12 16 15 15 13 22 24 11\n",
      " 11 19 22 13]\n"
     ]
    }
   ],
   "source": [
    "p=np.random.randint(10,25,100)\n",
    "print(p)"
   ]
  },
  {
   "cell_type": "markdown",
   "metadata": {},
   "source": [
    "# 3 Sample\n",
    "sample is to select the desire data from the population.\n",
    "For example we want to select the students whose age from 10 to 20, than these type of selection from the population is known as SAMPLE.  "
   ]
  },
  {
   "cell_type": "code",
   "execution_count": 14,
   "metadata": {},
   "outputs": [
    {
     "name": "stdout",
     "output_type": "stream",
     "text": [
      "[16 12 15 12 23 14 16 24 12 16 22 13 14 21 21 22 14 18 24 12]\n"
     ]
    }
   ],
   "source": [
    "s=np.random.choice(p,20)\n",
    "print(s)"
   ]
  },
  {
   "cell_type": "markdown",
   "metadata": {},
   "source": [
    "# 4 Range\n",
    "Range is difference of max value of data and min value of data i.e Range=max.valu-min.value"
   ]
  },
  {
   "cell_type": "code",
   "execution_count": 35,
   "metadata": {},
   "outputs": [
    {
     "name": "stdout",
     "output_type": "stream",
     "text": [
      "[-0.44844727 -1.74797204 -1.26764541 -0.32240214 -1.8771084  -0.40169658\n",
      "  0.67666823  1.78358041  1.87543911 -1.06402106 -0.37320914  1.26515067\n",
      " -0.34878589 -1.14671287 -0.68848271  0.42778058  0.97524762 -0.4667609\n",
      " -0.4842272  -0.70650373]\n",
      "Range=3.752547508176\n"
     ]
    }
   ],
   "source": [
    "r=np.random.randn(20)\n",
    "print(r)\n",
    "print('Range=' + str(np.max(r)-np.min(r)))"
   ]
  },
  {
   "cell_type": "markdown",
   "metadata": {},
   "source": [
    "# 5 Quartile\n",
    "Quartile divide a ranked_ordered data set into four equal parts"
   ]
  },
  {
   "cell_type": "code",
   "execution_count": null,
   "metadata": {},
   "outputs": [],
   "source": [
    "# Quartile\n",
    "Q1=np.percentile(n,75)\n",
    "Q3=np.percentile(n,50)\n",
    "Q3=np.percentile(n,25)\n",
    "InterQuartile=Q3-Q1"
   ]
  },
  {
   "cell_type": "markdown",
   "metadata": {},
   "source": [
    "# 6 Variance\n",
    "Tells how spread out (far away)a number is from the mean\n",
    "formula of varinance i have mentioned in reports"
   ]
  },
  {
   "cell_type": "code",
   "execution_count": 39,
   "metadata": {},
   "outputs": [
    {
     "name": "stdout",
     "output_type": "stream",
     "text": [
      "Variance=19.953599999999998\n"
     ]
    }
   ],
   "source": [
    "# variance of population \n",
    "print('Variance=' + str(np.var(p)))"
   ]
  },
  {
   "cell_type": "markdown",
   "metadata": {},
   "source": [
    "# 7 Standard Deviation\n",
    "variance gives you rough idea of spread, the standard daviation gives more exact distances from the mean."
   ]
  },
  {
   "cell_type": "code",
   "execution_count": 41,
   "metadata": {},
   "outputs": [
    {
     "name": "stdout",
     "output_type": "stream",
     "text": [
      "standard daviation=4.283398183685472\n"
     ]
    }
   ],
   "source": [
    "# Standard daviatioin of sample\n",
    "print('standard daviation=' + str(np.std(s)))"
   ]
  },
  {
   "cell_type": "markdown",
   "metadata": {},
   "source": [
    "# 8 Histrogram"
   ]
  },
  {
   "cell_type": "code",
   "execution_count": 51,
   "metadata": {},
   "outputs": [],
   "source": [
    "%matplotlib inline\n",
    "import matplotlib.pyplot as plt"
   ]
  },
  {
   "cell_type": "code",
   "execution_count": 52,
   "metadata": {},
   "outputs": [
    {
     "data": {
      "text/plain": [
       "(array([3., 3., 1., 0., 1., 1., 0., 2., 0., 2.]),\n",
       " array([ 77. ,  84.3,  91.6,  98.9, 106.2, 113.5, 120.8, 128.1, 135.4,\n",
       "        142.7, 150. ]),\n",
       " <a list of 10 Patch objects>)"
      ]
     },
     "execution_count": 52,
     "metadata": {},
     "output_type": "execute_result"
    },
    {
     "data": {
      "image/png": "[encoded data removed]",
      "text/plain": [
       "<Figure size 432x288 with 1 Axes>"
      ]
     },
     "metadata": {
      "needs_background": "light"
     },
     "output_type": "display_data"
    }
   ],
   "source": [
    "blood_sugar = [113, 85, 90, 150, 149, 88, 93, 115, 135, 80, 77, 82, 129]\n",
    "plt.hist(blood_sugar, rwidth=0.8) # by default number of bins is set to 10"
   ]
  },
  {
   "cell_type": "markdown",
   "metadata": {},
   "source": [
    "# 9 Ogive"
   ]
  },
  {
   "cell_type": "code",
   "execution_count": 54,
   "metadata": {},
   "outputs": [
    {
     "ename": "FileNotFoundError",
     "evalue": "[Errno 2] File b'fifa_data.csv' does not exist: b'fifa_data.csv'",
     "output_type": "error",
     "traceback": [
      "\u001b[1;31m---------------------------------------------------------------------------\u001b[0m",
      "\u001b[1;31mFileNotFoundError\u001b[0m                         Traceback (most recent call last)",
      "\u001b[1;32m<ipython-input-54-026852bacaf6>\u001b[0m in \u001b[0;36m<module>\u001b[1;34m\u001b[0m\n\u001b[1;32m----> 1\u001b[1;33m \u001b[0mfifa\u001b[0m \u001b[1;33m=\u001b[0m \u001b[0mpd\u001b[0m\u001b[1;33m.\u001b[0m\u001b[0mread_csv\u001b[0m\u001b[1;33m(\u001b[0m\u001b[1;34m'fifa_data.csv'\u001b[0m\u001b[1;33m)\u001b[0m\u001b[1;33m\u001b[0m\u001b[1;33m\u001b[0m\u001b[0m\n\u001b[0m\u001b[0;32m      2\u001b[0m \u001b[1;33m\u001b[0m\u001b[0m\n\u001b[0;32m      3\u001b[0m \u001b[0mfifa\u001b[0m\u001b[1;33m.\u001b[0m\u001b[0mhead\u001b[0m\u001b[1;33m(\u001b[0m\u001b[1;36m5\u001b[0m\u001b[1;33m)\u001b[0m\u001b[1;33m\u001b[0m\u001b[1;33m\u001b[0m\u001b[0m\n",
      "\u001b[1;32m~\\Anaconda3\\lib\\site-packages\\pandas\\io\\parsers.py\u001b[0m in \u001b[0;36mparser_f\u001b[1;34m(filepath_or_buffer, sep, delimiter, header, names, index_col, usecols, squeeze, prefix, mangle_dupe_cols, dtype, engine, converters, true_values, false_values, skipinitialspace, skiprows, skipfooter, nrows, na_values, keep_default_na, na_filter, verbose, skip_blank_lines, parse_dates, infer_datetime_format, keep_date_col, date_parser, dayfirst, cache_dates, iterator, chunksize, compression, thousands, decimal, lineterminator, quotechar, quoting, doublequote, escapechar, comment, encoding, dialect, error_bad_lines, warn_bad_lines, delim_whitespace, low_memory, memory_map, float_precision)\u001b[0m\n\u001b[0;32m    683\u001b[0m         )\n\u001b[0;32m    684\u001b[0m \u001b[1;33m\u001b[0m\u001b[0m\n\u001b[1;32m--> 685\u001b[1;33m         \u001b[1;32mreturn\u001b[0m \u001b[0m_read\u001b[0m\u001b[1;33m(\u001b[0m\u001b[0mfilepath_or_buffer\u001b[0m\u001b[1;33m,\u001b[0m \u001b[0mkwds\u001b[0m\u001b[1;33m)\u001b[0m\u001b[1;33m\u001b[0m\u001b[1;33m\u001b[0m\u001b[0m\n\u001b[0m\u001b[0;32m    686\u001b[0m \u001b[1;33m\u001b[0m\u001b[0m\n\u001b[0;32m    687\u001b[0m     \u001b[0mparser_f\u001b[0m\u001b[1;33m.\u001b[0m\u001b[0m__name__\u001b[0m \u001b[1;33m=\u001b[0m \u001b[0mname\u001b[0m\u001b[1;33m\u001b[0m\u001b[1;33m\u001b[0m\u001b[0m\n",
      "\u001b[1;32m~\\Anaconda3\\lib\\site-packages\\pandas\\io\\parsers.py\u001b[0m in \u001b[0;36m_read\u001b[1;34m(filepath_or_buffer, kwds)\u001b[0m\n\u001b[0;32m    455\u001b[0m \u001b[1;33m\u001b[0m\u001b[0m\n\u001b[0;32m    456\u001b[0m     \u001b[1;31m# Create the parser.\u001b[0m\u001b[1;33m\u001b[0m\u001b[1;33m\u001b[0m\u001b[1;33m\u001b[0m\u001b[0m\n\u001b[1;32m--> 457\u001b[1;33m     \u001b[0mparser\u001b[0m \u001b[1;33m=\u001b[0m \u001b[0mTextFileReader\u001b[0m\u001b[1;33m(\u001b[0m\u001b[0mfp_or_buf\u001b[0m\u001b[1;33m,\u001b[0m \u001b[1;33m**\u001b[0m\u001b[0mkwds\u001b[0m\u001b[1;33m)\u001b[0m\u001b[1;33m\u001b[0m\u001b[1;33m\u001b[0m\u001b[0m\n\u001b[0m\u001b[0;32m    458\u001b[0m \u001b[1;33m\u001b[0m\u001b[0m\n\u001b[0;32m    459\u001b[0m     \u001b[1;32mif\u001b[0m \u001b[0mchunksize\u001b[0m \u001b[1;32mor\u001b[0m \u001b[0miterator\u001b[0m\u001b[1;33m:\u001b[0m\u001b[1;33m\u001b[0m\u001b[1;33m\u001b[0m\u001b[0m\n",
      "\u001b[1;32m~\\Anaconda3\\lib\\site-packages\\pandas\\io\\parsers.py\u001b[0m in \u001b[0;36m__init__\u001b[1;34m(self, f, engine, **kwds)\u001b[0m\n\u001b[0;32m    893\u001b[0m             \u001b[0mself\u001b[0m\u001b[1;33m.\u001b[0m\u001b[0moptions\u001b[0m\u001b[1;33m[\u001b[0m\u001b[1;34m\"has_index_names\"\u001b[0m\u001b[1;33m]\u001b[0m \u001b[1;33m=\u001b[0m \u001b[0mkwds\u001b[0m\u001b[1;33m[\u001b[0m\u001b[1;34m\"has_index_names\"\u001b[0m\u001b[1;33m]\u001b[0m\u001b[1;33m\u001b[0m\u001b[1;33m\u001b[0m\u001b[0m\n\u001b[0;32m    894\u001b[0m \u001b[1;33m\u001b[0m\u001b[0m\n\u001b[1;32m--> 895\u001b[1;33m         \u001b[0mself\u001b[0m\u001b[1;33m.\u001b[0m\u001b[0m_make_engine\u001b[0m\u001b[1;33m(\u001b[0m\u001b[0mself\u001b[0m\u001b[1;33m.\u001b[0m\u001b[0mengine\u001b[0m\u001b[1;33m)\u001b[0m\u001b[1;33m\u001b[0m\u001b[1;33m\u001b[0m\u001b[0m\n\u001b[0m\u001b[0;32m    896\u001b[0m \u001b[1;33m\u001b[0m\u001b[0m\n\u001b[0;32m    897\u001b[0m     \u001b[1;32mdef\u001b[0m \u001b[0mclose\u001b[0m\u001b[1;33m(\u001b[0m\u001b[0mself\u001b[0m\u001b[1;33m)\u001b[0m\u001b[1;33m:\u001b[0m\u001b[1;33m\u001b[0m\u001b[1;33m\u001b[0m\u001b[0m\n",
      "\u001b[1;32m~\\Anaconda3\\lib\\site-packages\\pandas\\io\\parsers.py\u001b[0m in \u001b[0;36m_make_engine\u001b[1;34m(self, engine)\u001b[0m\n\u001b[0;32m   1133\u001b[0m     \u001b[1;32mdef\u001b[0m \u001b[0m_make_engine\u001b[0m\u001b[1;33m(\u001b[0m\u001b[0mself\u001b[0m\u001b[1;33m,\u001b[0m \u001b[0mengine\u001b[0m\u001b[1;33m=\u001b[0m\u001b[1;34m\"c\"\u001b[0m\u001b[1;33m)\u001b[0m\u001b[1;33m:\u001b[0m\u001b[1;33m\u001b[0m\u001b[1;33m\u001b[0m\u001b[0m\n\u001b[0;32m   1134\u001b[0m         \u001b[1;32mif\u001b[0m \u001b[0mengine\u001b[0m \u001b[1;33m==\u001b[0m \u001b[1;34m\"c\"\u001b[0m\u001b[1;33m:\u001b[0m\u001b[1;33m\u001b[0m\u001b[1;33m\u001b[0m\u001b[0m\n\u001b[1;32m-> 1135\u001b[1;33m             \u001b[0mself\u001b[0m\u001b[1;33m.\u001b[0m\u001b[0m_engine\u001b[0m \u001b[1;33m=\u001b[0m \u001b[0mCParserWrapper\u001b[0m\u001b[1;33m(\u001b[0m\u001b[0mself\u001b[0m\u001b[1;33m.\u001b[0m\u001b[0mf\u001b[0m\u001b[1;33m,\u001b[0m \u001b[1;33m**\u001b[0m\u001b[0mself\u001b[0m\u001b[1;33m.\u001b[0m\u001b[0moptions\u001b[0m\u001b[1;33m)\u001b[0m\u001b[1;33m\u001b[0m\u001b[1;33m\u001b[0m\u001b[0m\n\u001b[0m\u001b[0;32m   1136\u001b[0m         \u001b[1;32melse\u001b[0m\u001b[1;33m:\u001b[0m\u001b[1;33m\u001b[0m\u001b[1;33m\u001b[0m\u001b[0m\n\u001b[0;32m   1137\u001b[0m             \u001b[1;32mif\u001b[0m \u001b[0mengine\u001b[0m \u001b[1;33m==\u001b[0m \u001b[1;34m\"python\"\u001b[0m\u001b[1;33m:\u001b[0m\u001b[1;33m\u001b[0m\u001b[1;33m\u001b[0m\u001b[0m\n",
      "\u001b[1;32m~\\Anaconda3\\lib\\site-packages\\pandas\\io\\parsers.py\u001b[0m in \u001b[0;36m__init__\u001b[1;34m(self, src, **kwds)\u001b[0m\n\u001b[0;32m   1915\u001b[0m         \u001b[0mkwds\u001b[0m\u001b[1;33m[\u001b[0m\u001b[1;34m\"usecols\"\u001b[0m\u001b[1;33m]\u001b[0m \u001b[1;33m=\u001b[0m \u001b[0mself\u001b[0m\u001b[1;33m.\u001b[0m\u001b[0musecols\u001b[0m\u001b[1;33m\u001b[0m\u001b[1;33m\u001b[0m\u001b[0m\n\u001b[0;32m   1916\u001b[0m \u001b[1;33m\u001b[0m\u001b[0m\n\u001b[1;32m-> 1917\u001b[1;33m         \u001b[0mself\u001b[0m\u001b[1;33m.\u001b[0m\u001b[0m_reader\u001b[0m \u001b[1;33m=\u001b[0m \u001b[0mparsers\u001b[0m\u001b[1;33m.\u001b[0m\u001b[0mTextReader\u001b[0m\u001b[1;33m(\u001b[0m\u001b[0msrc\u001b[0m\u001b[1;33m,\u001b[0m \u001b[1;33m**\u001b[0m\u001b[0mkwds\u001b[0m\u001b[1;33m)\u001b[0m\u001b[1;33m\u001b[0m\u001b[1;33m\u001b[0m\u001b[0m\n\u001b[0m\u001b[0;32m   1918\u001b[0m         \u001b[0mself\u001b[0m\u001b[1;33m.\u001b[0m\u001b[0munnamed_cols\u001b[0m \u001b[1;33m=\u001b[0m \u001b[0mself\u001b[0m\u001b[1;33m.\u001b[0m\u001b[0m_reader\u001b[0m\u001b[1;33m.\u001b[0m\u001b[0munnamed_cols\u001b[0m\u001b[1;33m\u001b[0m\u001b[1;33m\u001b[0m\u001b[0m\n\u001b[0;32m   1919\u001b[0m \u001b[1;33m\u001b[0m\u001b[0m\n",
      "\u001b[1;32mpandas\\_libs\\parsers.pyx\u001b[0m in \u001b[0;36mpandas._libs.parsers.TextReader.__cinit__\u001b[1;34m()\u001b[0m\n",
      "\u001b[1;32mpandas\\_libs\\parsers.pyx\u001b[0m in \u001b[0;36mpandas._libs.parsers.TextReader._setup_parser_source\u001b[1;34m()\u001b[0m\n",
      "\u001b[1;31mFileNotFoundError\u001b[0m: [Errno 2] File b'fifa_data.csv' does not exist: b'fifa_data.csv'"
     ]
    }
   ],
   "source": [
    "\n",
    "fifa = pd.read_csv('fifa_data.csv')\n",
    "\n",
    "fifa.head(5)"
   ]
  },
  {
   "cell_type": "code",
   "execution_count": 55,
   "metadata": {},
   "outputs": [
    {
     "ename": "NameError",
     "evalue": "name 'fifa' is not defined",
     "output_type": "error",
     "traceback": [
      "\u001b[1;31m---------------------------------------------------------------------------\u001b[0m",
      "\u001b[1;31mNameError\u001b[0m                                 Traceback (most recent call last)",
      "\u001b[1;32m<ipython-input-55-83cab61787ce>\u001b[0m in \u001b[0;36m<module>\u001b[1;34m\u001b[0m\n\u001b[0;32m      3\u001b[0m \u001b[0mplt\u001b[0m\u001b[1;33m.\u001b[0m\u001b[0mfigure\u001b[0m\u001b[1;33m(\u001b[0m\u001b[0mfigsize\u001b[0m\u001b[1;33m=\u001b[0m\u001b[1;33m(\u001b[0m\u001b[1;36m8\u001b[0m\u001b[1;33m,\u001b[0m\u001b[1;36m5\u001b[0m\u001b[1;33m)\u001b[0m\u001b[1;33m)\u001b[0m\u001b[1;33m\u001b[0m\u001b[1;33m\u001b[0m\u001b[0m\n\u001b[0;32m      4\u001b[0m \u001b[1;33m\u001b[0m\u001b[0m\n\u001b[1;32m----> 5\u001b[1;33m \u001b[0mplt\u001b[0m\u001b[1;33m.\u001b[0m\u001b[0mhist\u001b[0m\u001b[1;33m(\u001b[0m\u001b[0mfifa\u001b[0m\u001b[1;33m.\u001b[0m\u001b[0mOverall\u001b[0m\u001b[1;33m,\u001b[0m \u001b[0mbins\u001b[0m\u001b[1;33m=\u001b[0m\u001b[0mbins\u001b[0m\u001b[1;33m,\u001b[0m \u001b[0mcolor\u001b[0m\u001b[1;33m=\u001b[0m\u001b[1;34m'#abcdef'\u001b[0m\u001b[1;33m)\u001b[0m\u001b[1;33m\u001b[0m\u001b[1;33m\u001b[0m\u001b[0m\n\u001b[0m\u001b[0;32m      6\u001b[0m \u001b[1;33m\u001b[0m\u001b[0m\n\u001b[0;32m      7\u001b[0m \u001b[0mplt\u001b[0m\u001b[1;33m.\u001b[0m\u001b[0mxticks\u001b[0m\u001b[1;33m(\u001b[0m\u001b[0mbins\u001b[0m\u001b[1;33m)\u001b[0m\u001b[1;33m\u001b[0m\u001b[1;33m\u001b[0m\u001b[0m\n",
      "\u001b[1;31mNameError\u001b[0m: name 'fifa' is not defined"
     ]
    },
    {
     "data": {
      "text/plain": [
       "<Figure size 576x360 with 0 Axes>"
      ]
     },
     "metadata": {},
     "output_type": "display_data"
    }
   ],
   "source": [
    "bins = [40,50,60,70,80,90,100]\n",
    "\n",
    "plt.figure(figsize=(8,5))\n",
    "\n",
    "plt.hist(fifa.Overall, bins=bins, color='#abcdef')\n",
    "\n",
    "plt.xticks(bins)\n",
    "\n",
    "plt.ylabel('Number of Players')\n",
    "plt.xlabel('Skill Level')\n",
    "plt.title('Distribution of Player Skills in FIFA 2018')\n",
    "\n",
    "plt.savefig('histogram.png', dpi=300)\n",
    "\n",
    "plt.show()"
   ]
  },
  {
   "cell_type": "markdown",
   "metadata": {},
   "source": [
    "# Dealing with ungrouped Data"
   ]
  },
  {
   "cell_type": "code",
   "execution_count": null,
   "metadata": {},
   "outputs": [
    {
     "name": "stdout",
     "output_type": "stream",
     "text": [
      "The largest number in the given list is =  45\n",
      "The smallest number in the given list is =  1\n",
      "The range =  44\n",
      "\n",
      "ungroup data\n",
      "\n",
      "1 has occurred 5 times\n",
      "2 has occurred 2 times\n",
      "3 has occurred 2 times\n",
      "4 has occurred 2 times\n",
      "5 has occurred 3 times\n",
      "6 has occurred 1 times\n",
      "12 has occurred 2 times\n",
      "23 has occurred 1 times\n",
      "45 has occurred 3 times\n"
     ]
    }
   ],
   "source": [
    "from collections import Counter \n",
    "import numpy as geek\n",
    "Number=geek.array([1,2,3,4,5,6\n",
    "        ,12,1,2,3,4\n",
    "        ,1,12,23,45\n",
    "        ,45,45,1,1,\n",
    "        5,5])\n",
    "large=max(Number)\n",
    "print(\"The largest number in the given list is = \",large)\n",
    "small=min(Number)\n",
    "print(\"The smallest number in the given list is = \",small)\n",
    "range_1=(large)-(small)\n",
    "print(\"The range = \",range_1)\n",
    "if(range_1>5):\n",
    "    print(\"\\nungroup data\")\n",
    "else:\n",
    "    print(\"grounp data\")\n",
    "x=1\n",
    "d = Counter(Number) \n",
    "print('\\n{} has occurred {} times'.format(x, d[x]))\n",
    "x=2\n",
    "d = Counter(Number) \n",
    "print('{} has occurred {} times'.format(x, d[x]))\n",
    "x=3\n",
    "d = Counter(Number) \n",
    "print('{} has occurred {} times'.format(x, d[x]))\n",
    "x = 4\n",
    "d = Counter(Number) \n",
    "print('{} has occurred {} times'.format(x, d[x]))\n",
    "x = 5\n",
    "d = Counter(Number) \n",
    "print('{} has occurred {} times'.format(x, d[x]))\n",
    "x = 6\n",
    "d = Counter(Number) \n",
    "print('{} has occurred {} times'.format(x, d[x]))\n",
    "x = 12\n",
    "d = Counter(Number) \n",
    "print('{} has occurred {} times'.format(x, d[x]))\n",
    "x = 23\n",
    "d = Counter(Number) \n",
    "print('{} has occurred {} times'.format(x, d[x]))\n",
    "x = 45\n",
    "d = Counter(Number) \n",
    "print('{} has occurred {} times'.format(x, d[x])) \n",
    "number1 = int(input(\"\\nEnter the frequency for Tally Mark: \"))\n",
    "quotient = number1 // 5\n",
    "remainder = number1 % 5\n",
    "tallyMarks = \"||||-   \" * quotient + \"|\" * remainder\n",
    "print(tallyMarks)\n",
    "\n",
    "number2 = int(input(\"Enter the frequency for Tally Mark: \"))\n",
    "quotient = number2 // 5\n",
    "remainder = number2 % 5\n",
    "tallyMarks = \"||||-   \" * quotient + \"|\" * remainder\n",
    "print(tallyMarks)\n",
    "\n",
    "number3 = int(input(\"Enter the frequency for Tally Mark: \"))\n",
    "quotient = number3 // 5\n",
    "remainder = number3 % 5\n",
    "tallyMarks = \"||||-   \" * quotient + \"|\" * remainder\n",
    "print(tallyMarks)\n",
    "number1 = int(input(\"Enter the frequency for Tally Mark: \"))\n",
    "quotient = number1 // 5\n",
    "remainder = number1 % 5\n",
    "tallyMarks = \"||||-   \" * quotient + \"|\" * remainder\n",
    "print(tallyMarks)\n",
    "\n",
    "number2 = int(input(\"Enter the frequency for Tally Mark: \"))\n",
    "quotient = number2 // 5\n",
    "remainder = number2 % 5\n",
    "tallyMarks = \"||||-   \" * quotient + \"|\" * remainder\n",
    "print(tallyMarks)\n",
    "\n",
    "number3 = int(input(\"Enter the frequency for Tally Mark: \"))\n",
    "quotient = number3 // 5\n",
    "remainder = number3 % 5\n",
    "tallyMarks = \"||||-   \" * quotient + \"|\" * remainder\n",
    "print(tallyMarks)\n",
    "number1 = int(input(\"Enter the frequency for Tally Mark: \"))\n",
    "quotient = number1 // 5\n",
    "remainder = number1 % 5\n",
    "tallyMarks = \"||||-   \" * quotient + \"|\" * remainder\n",
    "print(tallyMarks)\n",
    "\n",
    "number2 = int(input(\"Enter the frequency for Tally Mark: \"))\n",
    "quotient = number2 // 5\n",
    "remainder = number2 % 5\n",
    "tallyMarks = \"||||-   \" * quotient + \"|\" * remainder\n",
    "print(tallyMarks)\n",
    "number1 = int(input(\"Enter the frequency for Tally Mark: \"))\n",
    "quotient = number1 // 5\n",
    "remainder = number1 % 5\n",
    "tallyMarks = \"||||-   \" * quotient + \"|\" * remainder\n",
    "print(tallyMarks)    \n",
    "print (\"Input array : \", Number)  \n",
    "out_sum = geek.cumsum(Number)  \n",
    "print (\"cumulative sum of array elements: \", out_sum) \n",
    "add"
   ]
  },
  {
   "cell_type": "code",
   "execution_count": null,
   "metadata": {},
   "outputs": [],
   "source": []
  }
 ],
 "metadata": {
  "kernelspec": {
   "display_name": "Python 3",
   "language": "python",
   "name": "python3"
  },
  "language_info": {
   "codemirror_mode": {
    "name": "ipython",
    "version": 3
   },
   "file_extension": ".py",
   "mimetype": "text/x-python",
   "name": "python",
   "nbconvert_exporter": "python",
   "pygments_lexer": "ipython3",
   "version": "3.7.4"
  }
 },
 "nbformat": 4,
 "nbformat_minor": 2
}
